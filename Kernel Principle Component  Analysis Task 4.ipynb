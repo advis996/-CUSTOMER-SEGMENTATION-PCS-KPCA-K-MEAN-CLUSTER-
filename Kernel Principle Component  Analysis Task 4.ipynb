{
 "cells": [
  {
   "cell_type": "code",
   "execution_count": 1,
   "id": "4403f580",
   "metadata": {},
   "outputs": [],
   "source": [
    "import pandas as pd \n",
    "import numpy as np \n",
    "\n",
    "from sklearn.decomposition import KernelPCA\n",
    "\n",
    "import matplotlib\n",
    "%matplotlib inline\n",
    "%config InlineBackend.figure_format = 'svg'\n",
    "import matplotlib.pyplot as plt\n",
    "plt.style.use('ggplot')"
   ]
  },
  {
   "cell_type": "code",
   "execution_count": 2,
   "id": "06c1c2a4",
   "metadata": {},
   "outputs": [],
   "source": [
    "features = [\n",
    "    \n",
    "    #'Channel', categorical values \n",
    "    #'Region',\n",
    "    'Fresh',\n",
    "    'Milk',\n",
    "    'Grocery',\n",
    "    'Frozen',\n",
    "    'Detergents_Paper',\n",
    "    'Delicatessen'\n",
    "]"
   ]
  },
  {
   "cell_type": "code",
   "execution_count": 3,
   "id": "c4b53200",
   "metadata": {},
   "outputs": [],
   "source": [
    "df = pd.read_csv('data_processed.csv', index_col = 0)\n",
    "data = np.load('training_data.npy')"
   ]
  },
  {
   "cell_type": "code",
   "execution_count": null,
   "id": "f55e729c",
   "metadata": {},
   "outputs": [],
   "source": []
  }
 ],
 "metadata": {
  "kernelspec": {
   "display_name": "Python 3 (ipykernel)",
   "language": "python",
   "name": "python3"
  },
  "language_info": {
   "codemirror_mode": {
    "name": "ipython",
    "version": 3
   },
   "file_extension": ".py",
   "mimetype": "text/x-python",
   "name": "python",
   "nbconvert_exporter": "python",
   "pygments_lexer": "ipython3",
   "version": "3.9.7"
  }
 },
 "nbformat": 4,
 "nbformat_minor": 5
}
